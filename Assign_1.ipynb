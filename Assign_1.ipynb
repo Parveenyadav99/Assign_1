{
 "cells": [
  {
   "cell_type": "code",
   "execution_count": null,
   "id": "6d8d06c9",
   "metadata": {},
   "outputs": [],
   "source": [
    "# 1. Write a program to accept percentage from the user and display the grade according to the following criteria:\n",
    "Marks: 20\n",
    "Marks\n",
    ">90\n",
    ">80 and <=90\n",
    ">=60 and <=80\n",
    "below 60\n",
    "Grade\n",
    "A\n",
    "B\n",
    "C\n",
    "D"
   ]
  },
  {
   "cell_type": "code",
   "execution_count": 1,
   "id": "3a89d929",
   "metadata": {},
   "outputs": [
    {
     "name": "stdout",
     "output_type": "stream",
     "text": [
      "Enter your percentage: 80\n",
      "Grade: C\n"
     ]
    }
   ],
   "source": [
    "percentage = float(input(\"Enter your percentage: \"))\n",
    "\n",
    "if percentage > 90:\n",
    "    print(\"Grade: A\")\n",
    "elif percentage > 80 and percentage <= 90:\n",
    "    print(\"Grade: B\")\n",
    "elif percentage >= 60 and percentage <= 80:\n",
    "    print(\"Grade: C\")\n",
    "else:\n",
    "    print(\"Grade: D\")\n"
   ]
  },
  {
   "cell_type": "code",
   "execution_count": null,
   "id": "b1dfa333",
   "metadata": {},
   "outputs": [],
   "source": [
    "# 2. Write a program to accept the cost price of a bike and display the road tax to be paid according to the following criteria:\n",
    "Tax\n",
    "Cost Price(in Rs)\n",
    "15%\n",
    "100000\n",
    "10%\n",
    ">50000 and <= 100000\n",
    "5%\n",
    "< = 50000"
   ]
  },
  {
   "cell_type": "code",
   "execution_count": 2,
   "id": "0c7cd556",
   "metadata": {},
   "outputs": [
    {
     "name": "stdout",
     "output_type": "stream",
     "text": [
      "Enter the cost price of the bike: 78000\n",
      "Road tax to be paid:  7800.0\n"
     ]
    }
   ],
   "source": [
    "# ans\n",
    "cost_price = float(input(\"Enter the cost price of the bike: \"))\n",
    "\n",
    "if cost_price > 100000:\n",
    "    tax = cost_price * 0.15\n",
    "    print(\"Road tax to be paid: \", tax)\n",
    "elif cost_price > 50000 and cost_price <= 100000:\n",
    "    tax = cost_price * 0.10\n",
    "    print(\"Road tax to be paid: \", tax)\n",
    "else:\n",
    "    tax = cost_price * 0.05\n",
    "    print(\"Road tax to be paid: \", tax)\n"
   ]
  },
  {
   "cell_type": "code",
   "execution_count": null,
   "id": "7e86bd27",
   "metadata": {},
   "outputs": [],
   "source": [
    "# 3. Accept any city from the user and display monuments of that city.\n",
    "City\n",
    "Monument\n",
    "Delhi\n",
    "Red Fort\n",
    "Agra\n",
    "Taj Mahal\n",
    "Jaipur\n",
    "Jal Mahal"
   ]
  },
  {
   "cell_type": "code",
   "execution_count": 4,
   "id": "9225116b",
   "metadata": {},
   "outputs": [
    {
     "name": "stdout",
     "output_type": "stream",
     "text": [
      "Enter the name of the city: Delhi\n",
      "Monument: Red Fort\n"
     ]
    }
   ],
   "source": [
    "# ans3\n",
    "city = input(\"Enter the name of the city: \")\n",
    "\n",
    "if city == \"Delhi\":\n",
    "    print(\"Monument: Red Fort\")\n",
    "elif city == \"Agra\":\n",
    "    print(\"Monument: Taj Mahal\")\n",
    "elif city == \"Jaipur\":\n",
    "    print(\"Monument: Jal Mahal\")\n",
    "else:\n",
    "    print(\"Monument information not available.\")\n",
    "\n",
    "    "
   ]
  },
  {
   "cell_type": "code",
   "execution_count": 5,
   "id": "7063bb24",
   "metadata": {},
   "outputs": [
    {
     "name": "stdout",
     "output_type": "stream",
     "text": [
      "Enter a number: 30\n",
      "The number can be divided by 3 1 times.\n"
     ]
    }
   ],
   "source": [
    "# 4. Check how many times a given number can be divided by 3 before it is less than or equal to 10.\n",
    "number = int(input(\"Enter a number: \"))\n",
    "\n",
    "divisions = 0\n",
    "while number > 10:\n",
    "    number = number / 3\n",
    "    divisions += 1\n",
    "\n",
    "print(\"The number can be divided by 3\", divisions, \"times.\")\n"
   ]
  },
  {
   "cell_type": "code",
   "execution_count": 7,
   "id": "31b4348f",
   "metadata": {},
   "outputs": [
    {
     "data": {
      "text/plain": [
       "\"The while loop in Python is used to repeatedly execute a block of code as long as a certain condition is true. It is used when you want to perform an action repeatedly until a specific condition is met.\\n\\nHere's the general syntax for a while loop in Python:\\n\\npython\\nCopy code\\nwhile condition:\\n    # Code to be executed\\nThe condition in the while loop is evaluated before each iteration. If the condition is True, the code inside the loop is executed, and the condition is evaluated again. This process continues until the condition becomes False, at which point the while loop terminates.\\n\\nHere's an example to demonstrate the use of a while loop in Python:\""
      ]
     },
     "execution_count": 7,
     "metadata": {},
     "output_type": "execute_result"
    }
   ],
   "source": [
    "# 5. Why and When to Use while Loop in Python give a detailed description with example\n",
    "# ans\n",
    "'''The while loop in Python is used to repeatedly execute a block of code as long as a certain condition is true. It is used when you want to perform an action repeatedly until a specific condition is met.\n",
    "\n",
    "Here's the general syntax for a while loop in Python:'''\n",
    "'''The while loop in Python is used to repeatedly execute a block of code as long as a certain condition is true. It is used when you want to perform an action repeatedly until a specific condition is met.\n",
    "\n",
    "Here's the general syntax for a while loop in Python:\n",
    "\n",
    "python\n",
    "Copy code\n",
    "while condition:\n",
    "    # Code to be executed\n",
    "The condition in the while loop is evaluated before each iteration. If the condition is True, the code inside the loop is executed, and the condition is evaluated again. This process continues until the condition becomes False, at which point the while loop terminates.\n",
    "\n",
    "Here's an example to demonstrate the use of a while loop in Python:'''\n",
    "\n"
   ]
  },
  {
   "cell_type": "code",
   "execution_count": 6,
   "id": "c8843707",
   "metadata": {},
   "outputs": [
    {
     "name": "stdout",
     "output_type": "stream",
     "text": [
      "1\n",
      "2\n",
      "3\n",
      "4\n",
      "5\n"
     ]
    }
   ],
   "source": [
    "count = 1\n",
    "\n",
    "while count <= 5:\n",
    "    print(count)\n",
    "    count += 1\n"
   ]
  },
  {
   "cell_type": "code",
   "execution_count": 8,
   "id": "0eb0b1d6",
   "metadata": {},
   "outputs": [
    {
     "name": "stdout",
     "output_type": "stream",
     "text": [
      "*\n",
      "**\n",
      "***\n",
      "****\n",
      "*****\n",
      "\n",
      "\n",
      "*****\n",
      "****\n",
      "***\n",
      "**\n",
      "*\n",
      "\n",
      "\n",
      "    *\n",
      "   ***\n",
      "  *****\n",
      " *******\n",
      "*********\n"
     ]
    }
   ],
   "source": [
    "# 6. Use nested while loop to print 3 different pattern.\n",
    "# Pattern 1:\n",
    "#\n",
    "# *\n",
    "# **\n",
    "# ***\n",
    "# ****\n",
    "# *****\n",
    "\n",
    "i = 1\n",
    "while i <= 5:\n",
    "    j = 1\n",
    "    while j <= i:\n",
    "        print(\"*\", end=\"\")\n",
    "        j += 1\n",
    "    print(\"\")\n",
    "    i += 1\n",
    "\n",
    "print(\"\\n\")\n",
    "\n",
    "# Pattern 2:\n",
    "#\n",
    "# *****\n",
    "# ****\n",
    "# ***\n",
    "# **\n",
    "# *\n",
    "\n",
    "i = 5\n",
    "while i >= 1:\n",
    "    j = 1\n",
    "    while j <= i:\n",
    "        print(\"*\", end=\"\")\n",
    "        j += 1\n",
    "    print(\"\")\n",
    "    i -= 1\n",
    "\n",
    "print(\"\\n\")\n",
    "\n",
    "# Pattern 3:\n",
    "#\n",
    "#     *\n",
    "#    ***\n",
    "#   *****\n",
    "#  *******\n",
    "# *********\n",
    "\n",
    "i = 1\n",
    "while i <= 5:\n",
    "    j = 1\n",
    "    while j <= 5 - i:\n",
    "        print(\" \", end=\"\")\n",
    "        j += 1\n",
    "    k = 1\n",
    "    while k <= (2 * i - 1):\n",
    "        print(\"*\", end=\"\")\n",
    "        k += 1\n",
    "    print(\"\")\n",
    "    i += 1\n"
   ]
  },
  {
   "cell_type": "code",
   "execution_count": 9,
   "id": "8976a801",
   "metadata": {},
   "outputs": [
    {
     "name": "stdout",
     "output_type": "stream",
     "text": [
      "10\n",
      "9\n",
      "8\n",
      "7\n",
      "6\n",
      "5\n",
      "4\n",
      "3\n",
      "2\n",
      "1\n"
     ]
    }
   ],
   "source": [
    "# 7. Reverse a while loop to display numbers from 10 to 1.\n",
    "# Initialize the counter variable to 10\n",
    "counter = 10\n",
    "\n",
    "# Start the while loop\n",
    "while counter >= 1:\n",
    "    # Print the current value of the counter\n",
    "    print(counter)\n",
    "    \n",
    "    # Decrement the counter by 1\n",
    "    counter = counter - 1\n"
   ]
  },
  {
   "cell_type": "code",
   "execution_count": 10,
   "id": "eda0f63a",
   "metadata": {},
   "outputs": [
    {
     "name": "stdout",
     "output_type": "stream",
     "text": [
      "10\n",
      "9\n",
      "8\n",
      "7\n",
      "6\n",
      "5\n",
      "4\n",
      "3\n",
      "2\n",
      "1\n"
     ]
    }
   ],
   "source": [
    "# . Reverse a while loop to display numbers from 10 to 1\n",
    "# Initialize the counter variable to 10\n",
    "counter = 10\n",
    "\n",
    "# Start the while loop\n",
    "while counter >= 1:\n",
    "    # Print the current value of the counter\n",
    "    print(counter)\n",
    "    \n",
    "    # Decrement the counter by 1\n",
    "    counter = counter - 1\n"
   ]
  },
  {
   "cell_type": "code",
   "execution_count": null,
   "id": "2e56799d",
   "metadata": {},
   "outputs": [],
   "source": []
  }
 ],
 "metadata": {
  "kernelspec": {
   "display_name": "Python 3 (ipykernel)",
   "language": "python",
   "name": "python3"
  },
  "language_info": {
   "codemirror_mode": {
    "name": "ipython",
    "version": 3
   },
   "file_extension": ".py",
   "mimetype": "text/x-python",
   "name": "python",
   "nbconvert_exporter": "python",
   "pygments_lexer": "ipython3",
   "version": "3.9.7"
  }
 },
 "nbformat": 4,
 "nbformat_minor": 5
}
